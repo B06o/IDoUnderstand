{
  "nbformat": 4,
  "nbformat_minor": 0,
  "metadata": {
    "language_info": {
      "codemirror_mode": {
        "name": "ipython",
        "version": 3
      },
      "file_extension": ".py",
      "mimetype": "text/x-python",
      "name": "python",
      "nbconvert_exporter": "python",
      "pygments_lexer": "ipython3",
      "version": "3.8.10"
    },
    "orig_nbformat": 2,
    "kernelspec": {
      "name": "python3",
      "display_name": "Python 3.8.10 64-bit ('pytorch': conda)",
      "metadata": {
        "interpreter": {
          "hash": "f4a82b2823da4bb1c80087e47e9c3806bad6f1158d51e15328239ca22210c819"
        }
      }
    },
    "colab": {
      "provenance": [],
      "collapsed_sections": [],
      "include_colab_link": true
    },
    "accelerator": "GPU"
  },
  "cells": [
    {
      "cell_type": "markdown",
      "metadata": {
        "id": "view-in-github",
        "colab_type": "text"
      },
      "source": [
        "<a href=\"https://colab.research.google.com/github/B06o/IDoUnderstand/blob/master/translate.ipynb\" target=\"_parent\"><img src=\"https://colab.research.google.com/assets/colab-badge.svg\" alt=\"Open In Colab\"/></a>"
      ]
    },
    {
      "cell_type": "code",
      "metadata": {
        "colab": {
          "base_uri": "https://localhost:8080/"
        },
        "id": "9YiZD-H9DT6F",
        "outputId": "91d68968-517c-44d9-a68b-8c238d5956c5"
      },
      "source": [
        "from google.colab import drive\n",
        "drive.mount('/content/drive')"
      ],
      "execution_count": null,
      "outputs": [
        {
          "output_type": "stream",
          "text": [
            "Drive already mounted at /content/drive; to attempt to forcibly remount, call drive.mount(\"/content/drive\", force_remount=True).\n"
          ],
          "name": "stdout"
        }
      ]
    },
    {
      "cell_type": "code",
      "metadata": {
        "colab": {
          "base_uri": "https://localhost:8080/"
        },
        "id": "ODCkAZOQEZBU",
        "outputId": "12103ba5-1da6-4c08-8d97-c6094f4f9e60"
      },
      "source": [
        "!nvidia-smi"
      ],
      "execution_count": null,
      "outputs": [
        {
          "output_type": "stream",
          "text": [
            "Tue Jun  8 14:40:58 2021       \n",
            "+-----------------------------------------------------------------------------+\n",
            "| NVIDIA-SMI 465.27       Driver Version: 460.32.03    CUDA Version: 11.2     |\n",
            "|-------------------------------+----------------------+----------------------+\n",
            "| GPU  Name        Persistence-M| Bus-Id        Disp.A | Volatile Uncorr. ECC |\n",
            "| Fan  Temp  Perf  Pwr:Usage/Cap|         Memory-Usage | GPU-Util  Compute M. |\n",
            "|                               |                      |               MIG M. |\n",
            "|===============================+======================+======================|\n",
            "|   0  Tesla T4            Off  | 00000000:00:04.0 Off |                    0 |\n",
            "| N/A   51C    P8    10W /  70W |      0MiB / 15109MiB |      0%      Default |\n",
            "|                               |                      |                  N/A |\n",
            "+-------------------------------+----------------------+----------------------+\n",
            "                                                                               \n",
            "+-----------------------------------------------------------------------------+\n",
            "| Processes:                                                                  |\n",
            "|  GPU   GI   CI        PID   Type   Process name                  GPU Memory |\n",
            "|        ID   ID                                                   Usage      |\n",
            "|=============================================================================|\n",
            "|  No running processes found                                                 |\n",
            "+-----------------------------------------------------------------------------+\n"
          ],
          "name": "stdout"
        }
      ]
    },
    {
      "cell_type": "code",
      "metadata": {
        "id": "VeZQTFKnDHtY"
      },
      "source": [
        "import torch \n",
        "import torchtext\n",
        "\n",
        "from sklearn.model_selection import train_test_split\n",
        "\n",
        "import random\n",
        "import re \n",
        "from tqdm import tqdm\n",
        "import pandas as pd\n",
        "import numpy as np \n",
        "from matplotlib import pyplot as plt \n",
        "import unicodedata\n",
        "import datetime\n",
        "import time\n",
        "from torchtext.legacy.data import Field, Dataset, Example, Iterator\n",
        "import copy\n",
        "import torch.nn as nn \n",
        "import matplotlib.pyplot as plt\n",
        "import os \n",
        "import pdb"
      ],
      "execution_count": null,
      "outputs": []
    },
    {
      "cell_type": "code",
      "metadata": {
        "colab": {
          "base_uri": "https://localhost:8080/"
        },
        "id": "sUr9dD6jDHtZ",
        "outputId": "764530e2-f291-435e-973b-51c9e7ae14e9"
      },
      "source": [
        "use_cuda = torch.cuda.is_available()\n",
        "device = torch.device(\"cuda\" if torch.cuda.is_available() else \"cpu\")\n",
        "print(\"device=\",device)"
      ],
      "execution_count": null,
      "outputs": [
        {
          "output_type": "stream",
          "text": [
            "device= cuda\n"
          ],
          "name": "stdout"
        }
      ]
    },
    {
      "cell_type": "code",
      "metadata": {
        "colab": {
          "base_uri": "https://localhost:8080/",
          "height": 274
        },
        "id": "k117bqWfDHta",
        "outputId": "53e8fd32-44a6-496f-87d5-a2e0f801879b"
      },
      "source": [
        "# 这里挂载了我的云硬盘，使用时可自行下载数据集\n",
        "data_df = pd.read_csv(\"/content/drive/MyDrive/eng-fra.txt\",encoding=\"utf-8\",sep=\"\\t\",header=None,names=[\"eng\",\"fra\"],index_col=False)\n",
        "\n",
        "print(data_df.shape)\n",
        "print(data_df.values.shape)\n",
        "print(data_df.values[0])\n",
        "print(data_df.values[0].shape)\n",
        "data_df.head()"
      ],
      "execution_count": null,
      "outputs": [
        {
          "output_type": "stream",
          "text": [
            "(135842, 2)\n",
            "(135842, 2)\n",
            "['Go.' 'Va !']\n",
            "(2,)\n"
          ],
          "name": "stdout"
        },
        {
          "output_type": "execute_result",
          "data": {
            "text/html": [
              "<div>\n",
              "<style scoped>\n",
              "    .dataframe tbody tr th:only-of-type {\n",
              "        vertical-align: middle;\n",
              "    }\n",
              "\n",
              "    .dataframe tbody tr th {\n",
              "        vertical-align: top;\n",
              "    }\n",
              "\n",
              "    .dataframe thead th {\n",
              "        text-align: right;\n",
              "    }\n",
              "</style>\n",
              "<table border=\"1\" class=\"dataframe\">\n",
              "  <thead>\n",
              "    <tr style=\"text-align: right;\">\n",
              "      <th></th>\n",
              "      <th>eng</th>\n",
              "      <th>fra</th>\n",
              "    </tr>\n",
              "  </thead>\n",
              "  <tbody>\n",
              "    <tr>\n",
              "      <th>0</th>\n",
              "      <td>Go.</td>\n",
              "      <td>Va !</td>\n",
              "    </tr>\n",
              "    <tr>\n",
              "      <th>1</th>\n",
              "      <td>Run!</td>\n",
              "      <td>Cours !</td>\n",
              "    </tr>\n",
              "    <tr>\n",
              "      <th>2</th>\n",
              "      <td>Run!</td>\n",
              "      <td>Courez !</td>\n",
              "    </tr>\n",
              "    <tr>\n",
              "      <th>3</th>\n",
              "      <td>Wow!</td>\n",
              "      <td>Ça alors !</td>\n",
              "    </tr>\n",
              "    <tr>\n",
              "      <th>4</th>\n",
              "      <td>Fire!</td>\n",
              "      <td>Au feu !</td>\n",
              "    </tr>\n",
              "  </tbody>\n",
              "</table>\n",
              "</div>"
            ],
            "text/plain": [
              "     eng         fra\n",
              "0    Go.        Va !\n",
              "1   Run!     Cours !\n",
              "2   Run!    Courez !\n",
              "3   Wow!  Ça alors !\n",
              "4  Fire!    Au feu !"
            ]
          },
          "metadata": {
            "tags": []
          },
          "execution_count": 5
        }
      ]
    },
    {
      "cell_type": "code",
      "metadata": {
        "id": "CNjsoZJPDHtb"
      },
      "source": [
        "# 数据预处理\n",
        "# 将unicode字符串转化为ASCII码：\n",
        "def unicodeToAscii(s):\n",
        "    return ''.join(c for c in unicodedata.normalize('NFD', s) if unicodedata.category(c) != 'Mn')\n",
        "\n",
        "\n",
        "# 规范化字符串\n",
        "def normalizeString(s):\n",
        "    # print(s) # list  ['Go.']\n",
        "    # s = s[0]\n",
        "    s = s.lower().strip()\n",
        "    s = unicodeToAscii(s)\n",
        "    s = re.sub(r\"([.!?])\", r\" \\1\", s)  # \\1表示group(1)即第一个匹配到的 即匹配到'.'或者'!'或者'?'后，一律替换成'空格.'或者'空格!'或者'空格？'\n",
        "    s = re.sub(r\"[^a-zA-Z.!?]+\", r\" \", s)  # 非字母以及非.!?的其他任何字符 一律被替换成空格\n",
        "    s = re.sub(r'[\\s]+', \" \", s)  # 将出现的多个空格，都使用一个空格代替。例如：w='abc  1   23  1' 处理后：w='abc 1 23 1'\n",
        "    return s\n"
      ],
      "execution_count": null,
      "outputs": []
    },
    {
      "cell_type": "code",
      "metadata": {
        "colab": {
          "base_uri": "https://localhost:8080/"
        },
        "id": "2k46mBKNDHtb",
        "outputId": "bebde672-943f-48c7-edcc-ad96df54b22f"
      },
      "source": [
        "print(normalizeString('Va !'))\n",
        "print(normalizeString('Go.'))"
      ],
      "execution_count": null,
      "outputs": [
        {
          "output_type": "stream",
          "text": [
            "va !\n",
            "go .\n"
          ],
          "name": "stdout"
        }
      ]
    },
    {
      "cell_type": "code",
      "metadata": {
        "id": "lHuqn2xADHtb"
      },
      "source": [
        "MAX_LENGTH = 10\n",
        "\n",
        "eng_prefixes = (  # 之前normalizeString()已经对撇号等进行了过滤，以及清洗，小写化等\n",
        "    \"i am \", \"i m \",\n",
        "    \"he is\", \"he s \",\n",
        "    \"she is\", \"she s \",\n",
        "    \"you are\", \"you re \",\n",
        "    \"we are\", \"we re \",\n",
        "    \"they are\", \"they re \"\n",
        ")\n",
        "\n",
        "# print(eng_prefixes)\n",
        "pairs = [[normalizeString(s) for s in line] for line in data_df.values]\n"
      ],
      "execution_count": null,
      "outputs": []
    },
    {
      "cell_type": "code",
      "metadata": {
        "colab": {
          "base_uri": "https://localhost:8080/"
        },
        "id": "WNqAH0hJDHtc",
        "outputId": "c36bbf8d-6c10-44f5-e502-0610e650520a"
      },
      "source": [
        "print('pairs num=', len(pairs))\n",
        "print(pairs[0])\n",
        "print(pairs[1])"
      ],
      "execution_count": null,
      "outputs": [
        {
          "output_type": "stream",
          "text": [
            "pairs num= 135842\n",
            "['go .', 'va !']\n",
            "['run !', 'cours !']\n"
          ],
          "name": "stdout"
        }
      ]
    },
    {
      "cell_type": "code",
      "metadata": {
        "id": "N7hs_WJSDHtc"
      },
      "source": [
        "# 文件是英译法，我们实现的是法译英，所以进行了reverse，所以pair[1]是英语\n",
        "# 为了快速训练，仅保留“我是”“你是”“他是”等简单句子，并且删除原始文本长度大于10个标记的样本\n",
        "def filterPair(p):\n",
        "    return len(p[0].split(' ')) < MAX_LENGTH and len(p[1].split(' ')) < MAX_LENGTH and \\\n",
        "           p[0].startswith(eng_prefixes)  # startswith first arg must be str or a tuple of str\n",
        "\n",
        "\n",
        "def filterPairs(pairs):\n",
        "    # 过滤，并交换句子顺序，得到法英句子对（之前是英法句子对）\n",
        "    return [[pair[1], pair[0]] for pair in pairs if filterPair(pair)]\n",
        "\n",
        "\n",
        "pairs = filterPairs(pairs)\n"
      ],
      "execution_count": null,
      "outputs": []
    },
    {
      "cell_type": "code",
      "metadata": {
        "id": "QoITthHuVa5r"
      },
      "source": [
        "# # 留下大于最小长度的序列，在长句子上测试是否可以缺少位置编码\n",
        "# MIN_LENGTH = 10\n",
        "# MAX_LENGTH = 18\n",
        "# def filterPair_min(p):\n",
        "#     return len(p[0].split(' ')) > MIN_LENGTH and len(p[1].split(' ')) > MIN_LENGTH\n",
        "\n",
        "# def filterPair_max(p):\n",
        "#     return len(p[0].split(' ')) < MAX_LENGTH and len(p[1].split(' ')) < MAX_LENGTH\n",
        "\n",
        "\n",
        "# def filterPairs(pairs):\n",
        "#     # 过滤，并交换句子顺序，得到法英句子对（之前是英法句子对）\n",
        "#     return [[pair[1], pair[0]] for pair in pairs if filterPair_min(pair) and filterPair_max(pair)]\n",
        "\n",
        "\n",
        "# pairs = filterPairs(pairs)\n"
      ],
      "execution_count": null,
      "outputs": []
    },
    {
      "cell_type": "code",
      "metadata": {
        "colab": {
          "base_uri": "https://localhost:8080/"
        },
        "id": "nY8m-DqgDHtd",
        "outputId": "d5c359bc-9de0-400c-df5b-46e876b7e62d"
      },
      "source": [
        "print('after trimming, pairs num=', len(pairs))\n",
        "print(pairs[0])\n",
        "print(pairs[1])\n",
        "print(random.choice(pairs))\n",
        "print(pairs[0:2])"
      ],
      "execution_count": null,
      "outputs": [
        {
          "output_type": "stream",
          "text": [
            "after trimming, pairs num= 10599\n",
            "['j ai ans .', 'i m .']\n",
            "['je vais bien .', 'i m ok .']\n",
            "['nous sommes pieges !', 'we re trapped !']\n",
            "[['j ai ans .', 'i m .'], ['je vais bien .', 'i m ok .']]\n"
          ],
          "name": "stdout"
        }
      ]
    },
    {
      "cell_type": "code",
      "metadata": {
        "id": "LnoBNyjZDHtd"
      },
      "source": [
        "# 划分数据集： 训练集和验证集\n",
        "train_pairs, val_pairs = train_test_split(pairs, test_size=0.2, random_state=1234)"
      ],
      "execution_count": null,
      "outputs": []
    },
    {
      "cell_type": "code",
      "metadata": {
        "colab": {
          "base_uri": "https://localhost:8080/"
        },
        "id": "HD1PO73LDHtd",
        "outputId": "e8fe244d-7cb4-484a-9ca5-20d7a9b66f9d"
      },
      "source": [
        "print(len(train_pairs))\n",
        "print(len(val_pairs))"
      ],
      "execution_count": null,
      "outputs": [
        {
          "output_type": "stream",
          "text": [
            "8479\n",
            "2120\n"
          ],
          "name": "stdout"
        }
      ]
    },
    {
      "cell_type": "code",
      "metadata": {
        "id": "NaFzbNu-DHtd"
      },
      "source": [
        "tokenizer = lambda x: x.split()\n",
        "\n",
        "SRC_TEXT = Field(sequential=True,\n",
        "tokenize=tokenizer,\n",
        "# +2 因为<start>和<end>\n",
        "fix_length=MAX_LENGTH+2,\n",
        "preprocessing=lambda x:[\"<start>\"] + x + [\"<end>\"])\n",
        "\n",
        "TGT_TEXT = Field(sequential=True,\n",
        "tokenize=tokenizer,\n",
        "fix_length=MAX_LENGTH+2,\n",
        "preprocessing=lambda x:[\"<start>\"] + x + [\"<end>\"])\n",
        "\n",
        "def get_dataset(pairs, src, tgt):\n",
        "    # field信息：fields dict([str, Field])\n",
        "    fields = [(\"src\",src),(\"tgt\",tgt)]\n",
        "    # list(Example)\n",
        "    examples = [] \n",
        "    for fra, eng in tqdm(pairs):\n",
        "        # 创建Example时会调用field.preprocessing方法\n",
        "        examples.append(Example.fromlist([fra,eng],fields))\n",
        "    return examples, fields\n"
      ],
      "execution_count": null,
      "outputs": []
    },
    {
      "cell_type": "code",
      "metadata": {
        "colab": {
          "base_uri": "https://localhost:8080/"
        },
        "id": "CDsviRiTDHte",
        "outputId": "40370415-57d7-4273-bd78-de04b36cdd35"
      },
      "source": [
        "ds_train = Dataset(*get_dataset(train_pairs, SRC_TEXT, TGT_TEXT))\n",
        "ds_val = Dataset(*get_dataset(val_pairs, SRC_TEXT, TGT_TEXT))"
      ],
      "execution_count": null,
      "outputs": [
        {
          "output_type": "stream",
          "text": [
            "100%|██████████| 8479/8479 [00:00<00:00, 74636.10it/s]\n",
            "100%|██████████| 2120/2120 [00:00<00:00, 139957.57it/s]\n"
          ],
          "name": "stderr"
        }
      ]
    },
    {
      "cell_type": "code",
      "metadata": {
        "colab": {
          "base_uri": "https://localhost:8080/"
        },
        "id": "hzVP9_2lDHte",
        "outputId": "9f0bb157-0390-4450-b65a-bdcd35366142"
      },
      "source": [
        "print(len(ds_train[0].src), ds_train[0].src)\n",
        "print(len(ds_train[0].tgt), ds_train[0].tgt)\n",
        "ds_train.src"
      ],
      "execution_count": null,
      "outputs": [
        {
          "output_type": "stream",
          "text": [
            "9 ['<start>', 'tu', 'n', 'es', 'qu', 'un', 'lache', '.', '<end>']\n",
            "8 ['<start>', 'you', 're', 'just', 'a', 'coward', '.', '<end>']\n"
          ],
          "name": "stdout"
        },
        {
          "output_type": "execute_result",
          "data": {
            "text/plain": [
              "<generator object Dataset.__getattr__ at 0x7f82227237d0>"
            ]
          },
          "metadata": {
            "tags": []
          },
          "execution_count": 17
        }
      ]
    },
    {
      "cell_type": "code",
      "metadata": {
        "colab": {
          "base_uri": "https://localhost:8080/"
        },
        "id": "92JvG26vDHte",
        "outputId": "bdc4063a-ca7f-450c-a88b-c55c0398d241"
      },
      "source": [
        "SRC_TEXT.build_vocab(ds_train)\n",
        "print(len(SRC_TEXT.vocab))\n",
        "print(SRC_TEXT.vocab.itos[0])\n",
        "print(SRC_TEXT.vocab.itos[1])\n",
        "print(SRC_TEXT.vocab.itos[2])\n",
        "print(SRC_TEXT.vocab.itos[3])\n",
        "print(SRC_TEXT.vocab.stoi[\"<start>\"])\n",
        "print(SRC_TEXT.vocab.stoi[\"<end>\"])"
      ],
      "execution_count": null,
      "outputs": [
        {
          "output_type": "stream",
          "text": [
            "3901\n",
            "<unk>\n",
            "<pad>\n",
            "<end>\n",
            "<start>\n",
            "3\n",
            "2\n"
          ],
          "name": "stdout"
        }
      ]
    },
    {
      "cell_type": "code",
      "metadata": {
        "colab": {
          "base_uri": "https://localhost:8080/"
        },
        "id": "YUMleIevDHtf",
        "outputId": "5b28eaa0-7e56-4377-f140-85757c371e00"
      },
      "source": [
        "# 模拟decode\n",
        "res = []\n",
        "for id in [3, 5, 6, 71, 48, 5, 8, 32, 743, 4, 2, 1]:\n",
        "    res.append(SRC_TEXT.vocab.itos[id])\n",
        "print(\" \".join(res)+\"\\n\")"
      ],
      "execution_count": null,
      "outputs": [
        {
          "output_type": "stream",
          "text": [
            "<start> je suis fais si je vous l examen . <end> <pad>\n",
            "\n"
          ],
          "name": "stdout"
        }
      ]
    },
    {
      "cell_type": "code",
      "metadata": {
        "colab": {
          "base_uri": "https://localhost:8080/"
        },
        "id": "BjZIqWJhDHtf",
        "outputId": "2aadaced-d3cb-4769-bbe6-280bf7b06f65"
      },
      "source": [
        "TGT_TEXT.build_vocab(ds_train)\n",
        "print(len(TGT_TEXT.vocab))\n",
        "print(TGT_TEXT.vocab.itos[0])\n",
        "print(TGT_TEXT.vocab.itos[1])\n",
        "print(TGT_TEXT.vocab.itos[2])\n",
        "print(TGT_TEXT.vocab.itos[3])\n",
        "print(TGT_TEXT.vocab.stoi['<start>'])\n",
        "print(TGT_TEXT.vocab.stoi['<end>'])"
      ],
      "execution_count": null,
      "outputs": [
        {
          "output_type": "stream",
          "text": [
            "2591\n",
            "<unk>\n",
            "<pad>\n",
            "<end>\n",
            "<start>\n",
            "3\n",
            "2\n"
          ],
          "name": "stdout"
        }
      ]
    },
    {
      "cell_type": "code",
      "metadata": {
        "colab": {
          "base_uri": "https://localhost:8080/"
        },
        "id": "77Zg0LP2DHtf",
        "outputId": "9b0493d2-5c71-4737-86cc-fc422504743a"
      },
      "source": [
        "BATCH_SIZE = 64\n",
        "\n",
        "# 构建数据管道迭代器\n",
        "# split可以分开处理训练和验证集\n",
        "# train_iter由许多batch组成\n",
        "train_iter, val_iter = Iterator.splits(\n",
        "    (ds_train, ds_val),\n",
        "    sort_within_batch=True,\n",
        "    sort_key=lambda x:len(x.src),\n",
        "    batch_sizes=(BATCH_SIZE, BATCH_SIZE)\n",
        ")\n",
        "\n",
        "# 查看数据管道信息，会触发postprocessing，如果有的话\n",
        "for batch in train_iter:\n",
        "    # 注意，这里text第一维是seq_len，而非batch\n",
        "    print(batch.src[:,0])\n",
        "    print(batch.src.shape, batch.tgt.shape)\n",
        "    break"
      ],
      "execution_count": null,
      "outputs": [
        {
          "output_type": "stream",
          "text": [
            "tensor([   3,    5,    6,   44,   93,   35, 1508,   10,  393,    4,    2,    1])\n",
            "torch.Size([12, 64]) torch.Size([12, 64])\n"
          ],
          "name": "stdout"
        }
      ]
    },
    {
      "cell_type": "markdown",
      "metadata": {
        "id": "LcEIV95mDHtf"
      },
      "source": [
        "将数据管道组织成与torch.utils.data.DataLoader相似的inputs, targets的输出形式：\n",
        "\n"
      ]
    },
    {
      "cell_type": "code",
      "metadata": {
        "id": "sLApDbLKDHtg"
      },
      "source": [
        "class DataLoader:\n",
        "    def __init__(self, data_iter):\n",
        "        self.data_iter = data_iter\n",
        "        self.length = len(data_iter)\n",
        "    \n",
        "    def __len__(self):\n",
        "        return self.length\n",
        "    \n",
        "    def __iter__(self):\n",
        "        # 注意，此处调整text的shape为batch_first\n",
        "        for batch in self.data_iter:\n",
        "            yield(torch.transpose(batch.src, 0, 1), torch.transpose(batch.tgt, 0, 1))\n",
        "\n",
        "train_dataloader = DataLoader(train_iter)\n",
        "val_dataloader = DataLoader(val_iter)"
      ],
      "execution_count": null,
      "outputs": []
    },
    {
      "cell_type": "code",
      "metadata": {
        "colab": {
          "base_uri": "https://localhost:8080/"
        },
        "id": "cXbEbwHNDHtg",
        "outputId": "0dda08c3-d3ed-4713-a3d7-8b1527681c54"
      },
      "source": [
        "# 查看数据管道\n",
        "print(\"len(train_dataloader):\",len(train_dataloader))\n",
        "for batch_src, batch_tgt in train_dataloader:\n",
        "    print(batch_src.shape, batch_tgt.shape)\n",
        "    print(batch_src[0], batch_src.dtype)\n",
        "    print(batch_tgt[0], batch_tgt.dtype)\n",
        "    break"
      ],
      "execution_count": null,
      "outputs": [
        {
          "output_type": "stream",
          "text": [
            "len(train_dataloader): 133\n",
            "torch.Size([64, 12]) torch.Size([64, 12])\n",
            "tensor([  3,   5,   6,  69,  10,   8, 529,  48, 329,   4,   2,   1]) torch.int64\n",
            "tensor([  3,   5,   7,  36,  13, 473,   8,  48, 337,   4,   2,   1]) torch.int64\n"
          ],
          "name": "stdout"
        }
      ]
    },
    {
      "cell_type": "code",
      "metadata": {
        "id": "TPcAeeD-A3-D"
      },
      "source": [
        "# Tensor = torch.Tensor\n",
        "# # 给一个tensor所有位置的位置编码\n",
        "# def positional_encoding(X, num_features, dropout_p=0.1, max_len=128) -> Tensor:\n",
        "#     r'''\n",
        "#         给输入加入位置编码\n",
        "#     参数：\n",
        "#         - num_features: 输入进来的维度\n",
        "#         - dropout_p: dropout的概率，当其为非零元素时执行dropout\n",
        "#         - max_len: 句子的最大长度，默认512\n",
        "    \n",
        "#     形状：\n",
        "#         - 输入： [batch_size, seq_length, num_features]\n",
        "#         - 输出： ([batch_size, seq_length, num_features], [1, max_len, num_features])\n",
        "\n",
        "#     例子：\n",
        "#         >>> X = torch.randn((2,4,10))\n",
        "#         >>> X = positional_encoding(X, 10)\n",
        "#         >>> print(X.shape)\n",
        "#         >>> torch.Size([2, 4, 10])\n",
        "#     '''\n",
        "\n",
        "#     dropout = nn.Dropout(dropout_p)\n",
        "#     P = torch.zeros((1,max_len,num_features))\n",
        "#     X_ = torch.arange(max_len,dtype=torch.float32).reshape(-1,1) / torch.pow(\n",
        "#         10000,\n",
        "#         torch.arange(0,num_features,2,dtype=torch.float32) /num_features)\n",
        "#     P[:,:,0::2] = torch.sin(X_)\n",
        "#     P[:,:,1::2] = torch.cos(X_)\n",
        "#     X = X + P[:,:X.shape[1],:].to(X.device)\n",
        "#     return dropout(X) , P"
      ],
      "execution_count": null,
      "outputs": []
    },
    {
      "cell_type": "code",
      "metadata": {
        "id": "2J1fdSIbDHtg"
      },
      "source": [
        "## no Dropout\n",
        "# Tensor = torch.Tensor\n",
        "# # 给一个tensor所有位置的位置编码\n",
        "# def positional_encoding(X, num_features, dropout_p=0.0, max_len=128) -> Tensor:\n",
        "#     r'''\n",
        "#         给输入加入位置编码\n",
        "#     参数：\n",
        "#         - num_features: 输入进来的维度\n",
        "#         - dropout_p: dropout的概率，当其为非零元素时执行dropout\n",
        "#         - max_len: 句子的最大长度，默认512\n",
        "    \n",
        "#     形状：\n",
        "#         - 输入： [batch_size, seq_length, num_features]\n",
        "#         - 输出： [batch_size, seq_length, num_features]\n",
        "\n",
        "#     例子：\n",
        "#         >>> X = torch.randn((2,4,10))\n",
        "#         >>> X = positional_encoding(X, 10)\n",
        "#         >>> print(X.shape)\n",
        "#         >>> torch.Size([2, 4, 10])\n",
        "#     '''\n",
        "\n",
        "#     dropout = nn.Dropout(dropout_p)\n",
        "#     P = torch.zeros((1,max_len,num_features))\n",
        "#     X_ = torch.arange(max_len,dtype=torch.float32).reshape(-1,1) / torch.pow(\n",
        "#         10000,\n",
        "#         torch.arange(0,num_features,2,dtype=torch.float32) /num_features)\n",
        "#     P[:,:,0::2] = torch.sin(X_)\n",
        "#     P[:,:,1::2] = torch.cos(X_)\n",
        "#     X = X + P[:,:X.shape[1],:].to(X.device)\n",
        "#     return dropout(X), P"
      ],
      "execution_count": null,
      "outputs": []
    },
    {
      "cell_type": "code",
      "metadata": {
        "id": "JUbzaL-zWqjS"
      },
      "source": [
        "# '''\n",
        "# 400维之后全部重置为0\n",
        "# '''\n",
        "# Tensor = torch.Tensor\n",
        "# # 给一个tensor所有位置的位置编码\n",
        "# def positional_encoding(X, num_features, dropout_p=0.1, max_len=128) -> Tensor:\n",
        "#     r'''\n",
        "#         给输入加入位置编码\n",
        "#     参数：\n",
        "#         - num_features: 输入进来的维度\n",
        "#         - dropout_p: dropout的概率，当其为非零元素时执行dropout\n",
        "#         - max_len: 句子的最大长度，默认512\n",
        "    \n",
        "#     形状：\n",
        "#         - 输入： [batch_size, seq_length, num_features]\n",
        "#         - 输出： ([batch_size, seq_length, num_features], [1, max_len, num_features])\n",
        "\n",
        "#     例子：\n",
        "#         >>> X = torch.randn((2,4,10))\n",
        "#         >>> X = positional_encoding(X, 10)\n",
        "#         >>> print(X.shape)\n",
        "#         >>> torch.Size([2, 4, 10])\n",
        "#     '''\n",
        "\n",
        "#     dropout = nn.Dropout(dropout_p)\n",
        "#     P = torch.zeros((1,max_len,num_features))\n",
        "#     X_ = torch.arange(max_len,dtype=torch.float32).reshape(-1,1) / torch.pow(\n",
        "#         10000,\n",
        "#         torch.arange(0,num_features,2,dtype=torch.float32) /num_features)\n",
        "#     P[:,:,0::2] = torch.sin(X_)\n",
        "#     P[:,:,1::2] = torch.cos(X_)\n",
        "#     P[:,:,399:] = 0\n",
        "#     P.requires_grad = False\n",
        "#     X = X + P[:,:X.shape[1],:].to(X.device)\n",
        "#     return X , P"
      ],
      "execution_count": null,
      "outputs": []
    },
    {
      "cell_type": "code",
      "metadata": {
        "id": "XmsMT97Y-LvW"
      },
      "source": [
        "# 只有sin,cos\n",
        "Tensor = torch.Tensor\n",
        "# 给一个tensor所有位置的位置编码\n",
        "def positional_encoding(X, num_features, dropout_p=0.1, max_len=128) -> Tensor:\n",
        "    r'''\n",
        "        给输入加入位置编码\n",
        "    参数：\n",
        "        - num_features: 输入进来的维度\n",
        "        - dropout_p: dropout的概率，当其为非零元素时执行dropout\n",
        "        - max_len: 句子的最大长度，默认512\n",
        "    \n",
        "    形状：\n",
        "        - 输入： [batch_size, seq_length, num_features]\n",
        "        - 输出： [batch_size, seq_length, num_features]\n",
        "\n",
        "    例子：\n",
        "        >>> X = torch.randn((2,4,10))\n",
        "        >>> X = positional_encoding(X, 10)\n",
        "        >>> print(X.shape)\n",
        "        >>> torch.Size([2, 4, 10])\n",
        "    '''\n",
        "\n",
        "    dropout = nn.Dropout(dropout_p)\n",
        "    P = torch.zeros((1,max_len,num_features))\n",
        "    X_ = torch.arange(max_len,dtype=torch.float32).reshape(-1,1) / torch.pow(\n",
        "        10000,\n",
        "        torch.arange(0,num_features,dtype=torch.float32) /num_features)\n",
        "    P[:,:,0:] = torch.sin(X_)\n",
        "    X = X + P[:,:X.shape[1],:].to(X.device)\n",
        "    return dropout(X), P"
      ],
      "execution_count": null,
      "outputs": []
    },
    {
      "cell_type": "code",
      "metadata": {
        "colab": {
          "base_uri": "https://localhost:8080/",
          "height": 283
        },
        "id": "Jg6IkMCgDHth",
        "outputId": "90e93b1b-a4ea-4609-fa45-896d1378093f"
      },
      "source": [
        "def draw_pos_encoding(pos_encoding, d_model):\n",
        "    plt.figure()\n",
        "    plt.pcolormesh(pos_encoding[0],cmap=\"RdBu\")\n",
        "    plt.xlabel(\"Depth\")\n",
        "    plt.xlim((0, d_model))\n",
        "    plt.ylabel(\"Position\")\n",
        "    plt.colorbar()\n",
        "    plt.show()\n",
        "\n",
        "X = torch.randn((2,4,512))\n",
        "pos_encoding = positional_encoding(X, 512)\n",
        "draw_pos_encoding(pos_encoding[1], 512)\n"
      ],
      "execution_count": null,
      "outputs": [
        {
          "output_type": "display_data",
          "data": {
            "image/png": "[encoded data removed]",
            "text/plain": [
              "<Figure size 432x288 with 2 Axes>"
            ]
          },
          "metadata": {
            "tags": [],
            "needs_background": "light"
          }
        }
      ]
    },
    {
      "cell_type": "code",
      "metadata": {
        "id": "TnaHkVCWDHth"
      },
      "source": [
        "# 在NLP中，<PAD>用以填充句子，而这没有携带任何信息，故需要被mask掉\n",
        "# 返回True和False组成的mask\n",
        "def get_attn_pad_mask(seq_q, seq_k):\n",
        "    batch_size, len_q = seq_q.size()\n",
        "    batch_size, len_k = seq_k.size()\n",
        "    # eq(1) 即为<PAD>\n",
        "    # 注意torchtext是<pad>为1而非0\n",
        "    pad_attn_mask = seq_k.data.eq(1).unsqueeze(1)\n",
        "    return pad_attn_mask.expand(batch_size, len_q, len_k)"
      ],
      "execution_count": null,
      "outputs": []
    },
    {
      "cell_type": "code",
      "metadata": {
        "id": "DfLco3tNDHth"
      },
      "source": [
        "# 返回1，0组成的mask\n",
        "def get_attn_subsequent_mask(seq):\n",
        "    attn_shape = [seq.size(0), seq.size(1), seq.size(1)]\n",
        "    subsequent_mask = torch.triu(torch.ones(attn_shape),1)\n",
        "    subsequent_mask = subsequent_mask.byte()\n",
        "    return subsequent_mask"
      ],
      "execution_count": null,
      "outputs": []
    },
    {
      "cell_type": "code",
      "metadata": {
        "id": "rh_k9w2MDHth"
      },
      "source": [
        "class ScaledDotProductAttention(nn.Module):\n",
        "    def __init__(self):\n",
        "        super(ScaledDotProductAttention, self).__init__()\n",
        "\n",
        "    def forward(self, Q, K, V, attn_mask):\n",
        "        # scores : [batch_size x n_heads x len_q(=len_k) x len_k(=len_q)]\n",
        "        scores = torch.matmul(Q, K.transpose(-1, -2)) / np.sqrt(d_k) \n",
        "        # 1的位置全部填充以忽略\n",
        "        scores.masked_fill_(attn_mask, -1e9)\n",
        "        attn = nn.Softmax(dim=-1)(scores)\n",
        "        context = torch.matmul(attn, V)\n",
        "        return context, attn"
      ],
      "execution_count": null,
      "outputs": []
    },
    {
      "cell_type": "code",
      "metadata": {
        "colab": {
          "base_uri": "https://localhost:8080/"
        },
        "id": "KbOV0sbbDHth",
        "outputId": "254c4aa7-03c7-4c0b-c29c-2b4d5b09a246"
      },
      "source": [
        "w = nn.Linear(128, 10 * 8)\n",
        "q = torch.randn((10, 10, 128))\n",
        "# 第一个10不动，(10 x 128) x (128 x 80) => 10 x 80\n",
        "# 无转置，其实是q x w\n",
        "w(q).shape"
      ],
      "execution_count": null,
      "outputs": [
        {
          "output_type": "execute_result",
          "data": {
            "text/plain": [
              "torch.Size([10, 10, 80])"
            ]
          },
          "metadata": {
            "tags": []
          },
          "execution_count": 32
        }
      ]
    },
    {
      "cell_type": "code",
      "metadata": {
        "id": "eAtB7YmEDHti"
      },
      "source": [
        "class MultiHeadAttention(nn.Module):\n",
        "    def __init__(self):\n",
        "        super(MultiHeadAttention, self).__init__()\n",
        "        self.W_Q = nn.Linear(d_model, d_k * n_heads)\n",
        "        self.W_K = nn.Linear(d_model, d_k * n_heads)\n",
        "        self.W_V = nn.Linear(d_model, d_v * n_heads)\n",
        "        self.linear = nn.Linear(n_heads * d_v, d_model)\n",
        "        self.layer_norm = nn.LayerNorm(d_model)\n",
        "\n",
        "    def forward(self, Q, K, V, attn_mask):\n",
        "        # Q: [batch_size x len_q x d_model], K: [batch_size x len_k x d_model], V: [batch_size x len_k x d_model]\n",
        "\n",
        "        residual, batch_size = Q, Q.size(0)\n",
        "        \n",
        "        # (B, S, D) -proj-> (B, S, D) -split-> (B, S, H, W) -trans-> (B, H, S, W)\n",
        "        # q_s: [batch_size x n_heads x len_q x d_k]\n",
        "        q_s = self.W_Q(Q).view(batch_size, -1, n_heads, d_k).transpose(1,2)\n",
        "        \n",
        "        # k_s: [batch_size x n_heads x len_k x d_k]  \n",
        "        k_s = self.W_K(K).view(batch_size, -1, n_heads, d_k).transpose(1,2)\n",
        "        \n",
        "        # v_s: [batch_size x n_heads x len_k x d_v]  \n",
        "        v_s = self.W_V(V).view(batch_size, -1, n_heads, d_v).transpose(1,2)  \n",
        "        \n",
        "        # attn_mask : [batch_size x n_heads x len_q x len_k]\n",
        "        attn_mask = attn_mask.unsqueeze(1).repeat(1, n_heads, 1, 1)\n",
        "        \n",
        "        # context: [batch_size x n_heads x len_q x d_v]\n",
        "        # attn: [batch_size x n_heads x len_q(=len_k) x len_k(=len_q)]\n",
        "        context, attn = ScaledDotProductAttention()(q_s, k_s, v_s, attn_mask)\n",
        "        \n",
        "        # context: [batch_size x len_q x n_heads * d_v]\n",
        "        context = context.transpose(1, 2).contiguous().view(batch_size, -1, n_heads * d_v) \n",
        "        \n",
        "        # output: [batch_size x len_q x d_model]\n",
        "        output = self.linear(context)\n",
        "        return self.layer_norm(output + residual), attn "
      ],
      "execution_count": null,
      "outputs": []
    },
    {
      "cell_type": "code",
      "metadata": {
        "id": "oKc5sGhcDHti"
      },
      "source": [
        "class PoswiseFeedForwardNet(nn.Module):\n",
        "    def __init__(self):\n",
        "        super(PoswiseFeedForwardNet, self).__init__()\n",
        "        self.linear1 = nn.Linear(d_model, d_ff)\n",
        "        self.linear2 = nn.Linear(d_ff, d_model)\n",
        "        self.layer_norm = nn.LayerNorm(d_model)\n",
        "        self.dropout = nn.Dropout(0.1)\n",
        "    \n",
        "    def forward(self, inputs):\n",
        "        residual = inputs \n",
        "        output = self.dropout(nn.ReLU()(self.linear1(inputs)))\n",
        "        output = self.layer_norm(self.dropout(self.linear2(output)) + residual)\n",
        "        return output"
      ],
      "execution_count": null,
      "outputs": []
    },
    {
      "cell_type": "code",
      "metadata": {
        "id": "RwQjAv3dDHti"
      },
      "source": [
        "# 1 x 1卷积代替全连接层\n",
        "# class PoswiseFeedForwardNet(nn.Module):\n",
        "#     def __init__(self):\n",
        "#         super(PoswiseFeedForwardNet, self).__init__()\n",
        "#         self.conv1 = nn.Conv1d(in_channels=d_model, out_channels=d_ff, kernel_size=1)\n",
        "#         self.conv2 = nn.Conv1d(in_channels=d_ff, out_channels=d_model, kernel_size=1)\n",
        "#         self.layer_norm = nn.LayerNorm(d_model)\n",
        "\n",
        "#     def forward(self, inputs):\n",
        "#         residual = inputs # inputs : [batch_size, len_q, d_model]\n",
        "#         output = nn.ReLU()(self.conv1(inputs.transpose(1, 2)))\n",
        "#         output = self.conv2(output).transpose(1, 2)\n",
        "#         return self.layer_norm(output + residual)\n"
      ],
      "execution_count": null,
      "outputs": []
    },
    {
      "cell_type": "code",
      "metadata": {
        "id": "jp2uKflYDHti"
      },
      "source": [
        "class EncoderLayer(nn.Module):\n",
        "    def __init__(self):\n",
        "        super(EncoderLayer, self).__init__()\n",
        "        self.enc_self_attn = MultiHeadAttention()\n",
        "        self.pos_ffn = PoswiseFeedForwardNet()\n",
        "\n",
        "    def forward(self, enc_inputs, enc_self_attn_mask):\n",
        "        enc_outputs, attn = self.enc_self_attn(enc_inputs, enc_inputs, enc_inputs, enc_self_attn_mask) \n",
        "        enc_outputs = self.pos_ffn(enc_outputs)\n",
        "        return enc_outputs, attn"
      ],
      "execution_count": null,
      "outputs": []
    },
    {
      "cell_type": "code",
      "metadata": {
        "id": "kEKl14DTDHtj"
      },
      "source": [
        "class DecoderLayer(nn.Module):\n",
        "    def __init__(self):\n",
        "        super(DecoderLayer, self).__init__()\n",
        "        self.dec_self_attn = MultiHeadAttention()\n",
        "        self.dec_enc_attn = MultiHeadAttention()\n",
        "        self.pos_ffn = PoswiseFeedForwardNet()\n",
        "\n",
        "    def forward(self, dec_inputs, enc_outputs, dec_self_attn_mask, dec_enc_attn_mask):\n",
        "        dec_outputs, dec_self_attn = self.dec_self_attn(dec_inputs, dec_inputs, dec_inputs, dec_self_attn_mask)\n",
        "        dec_outputs, dec_enc_attn = self.dec_enc_attn(dec_outputs, enc_outputs, enc_outputs, dec_enc_attn_mask)\n",
        "        dec_outputs = self.pos_ffn(dec_outputs)\n",
        "        return dec_outputs, dec_self_attn, dec_enc_attn"
      ],
      "execution_count": null,
      "outputs": []
    },
    {
      "cell_type": "code",
      "metadata": {
        "id": "TsKs-IlBDHtj"
      },
      "source": [
        "class Encoder(nn.Module):\n",
        "    def __init__(self):\n",
        "        super(Encoder, self).__init__()\n",
        "        self.src_emb = nn.Embedding(src_vocab_size, d_model)\n",
        "        self.layers = nn.ModuleList([EncoderLayer() for _ in range(n_layers)])\n",
        "        self.dropout = nn.Dropout(0.1)\n",
        "\n",
        "    def forward(self, enc_inputs):\n",
        "        enc_outputs = self.dropout(positional_encoding(self.src_emb(enc_inputs), d_model)[0])\n",
        "        enc_self_attn_mask = get_attn_pad_mask(enc_inputs, enc_inputs).to(device)\n",
        "        enc_self_attns = []\n",
        "        for layer in self.layers:\n",
        "            enc_outputs, enc_self_attn = layer(enc_outputs, enc_self_attn_mask)\n",
        "            enc_self_attns.append(enc_self_attn)\n",
        "        return enc_outputs, enc_self_attns\n"
      ],
      "execution_count": null,
      "outputs": []
    },
    {
      "cell_type": "code",
      "metadata": {
        "id": "ZwTGqBfIo8iE"
      },
      "source": [
        "# # 不加位置编码\n",
        "# class Encoder(nn.Module):\n",
        "#     def __init__(self):\n",
        "#         super(Encoder, self).__init__()\n",
        "#         self.src_emb = nn.Embedding(src_vocab_size, d_model)\n",
        "#         self.layers = nn.ModuleList([EncoderLayer() for _ in range(n_layers)])\n",
        "#         self.dropout = nn.Dropout(0.1)\n",
        "\n",
        "#     def forward(self, enc_inputs):\n",
        "#         enc_outputs = self.dropout(self.src_emb(enc_inputs))\n",
        "#         enc_self_attn_mask = get_attn_pad_mask(enc_inputs, enc_inputs).to(device)\n",
        "#         enc_self_attns = []\n",
        "#         for layer in self.layers:\n",
        "#             enc_outputs, enc_self_attn = layer(enc_outputs, enc_self_attn_mask)\n",
        "#             enc_self_attns.append(enc_self_attn)\n",
        "#         return enc_outputs, enc_self_attns\n"
      ],
      "execution_count": null,
      "outputs": []
    },
    {
      "cell_type": "code",
      "metadata": {
        "id": "r4q8oyGMDHtj"
      },
      "source": [
        "class Decoder(nn.Module):\n",
        "    def __init__(self):\n",
        "        super(Decoder, self).__init__()\n",
        "        self.tgt_emb = nn.Embedding(tgt_vocab_size, d_model)\n",
        "        self.layers = nn.ModuleList([DecoderLayer() for _ in range(n_layers)])\n",
        "\n",
        "    def forward(self, dec_inputs, enc_inputs, enc_outputs):\n",
        "        dec_outputs = positional_encoding(self.tgt_emb(dec_inputs), d_model)[0]\n",
        "        dec_self_attn_pad_mask = get_attn_pad_mask(dec_inputs, dec_inputs).to(device)\n",
        "        dec_self_attn_subsequent_mask = get_attn_subsequent_mask(dec_inputs).to(device)\n",
        "        # torch.gt严格大于\n",
        "        dec_self_attn_mask = torch.gt((dec_self_attn_pad_mask + dec_self_attn_subsequent_mask), 0)\n",
        "\n",
        "        dec_enc_attn_mask = get_attn_pad_mask(dec_inputs, enc_inputs).to(device)\n",
        "\n",
        "        dec_self_attns, dec_enc_attns = [], []\n",
        "        for layer in self.layers:\n",
        "            dec_outputs, dec_self_attn, dec_enc_attn = layer(dec_outputs, enc_outputs, \n",
        "            dec_self_attn_mask, dec_enc_attn_mask)\n",
        "            dec_self_attns.append(dec_self_attn)\n",
        "            dec_enc_attns.append(dec_enc_attn)\n",
        "        return dec_outputs, dec_self_attns, dec_enc_attns\n"
      ],
      "execution_count": null,
      "outputs": []
    },
    {
      "cell_type": "code",
      "metadata": {
        "id": "nNL678m8pKm5"
      },
      "source": [
        "# # 不加位置编码\n",
        "# class Decoder(nn.Module):\n",
        "#     def __init__(self):\n",
        "#         super(Decoder, self).__init__()\n",
        "#         self.tgt_emb = nn.Embedding(tgt_vocab_size, d_model)\n",
        "#         self.layers = nn.ModuleList([DecoderLayer() for _ in range(n_layers)])\n",
        "\n",
        "#     def forward(self, dec_inputs, enc_inputs, enc_outputs):\n",
        "#         dec_outputs = self.tgt_emb(dec_inputs)\n",
        "#         dec_self_attn_pad_mask = get_attn_pad_mask(dec_inputs, dec_inputs).to(device)\n",
        "#         dec_self_attn_subsequent_mask = get_attn_subsequent_mask(dec_inputs).to(device)\n",
        "#         # torch.gt严格大于\n",
        "#         dec_self_attn_mask = torch.gt((dec_self_attn_pad_mask + dec_self_attn_subsequent_mask), 0)\n",
        "\n",
        "#         dec_enc_attn_mask = get_attn_pad_mask(dec_inputs, enc_inputs).to(device)\n",
        "\n",
        "#         dec_self_attns, dec_enc_attns = [], []\n",
        "#         for layer in self.layers:\n",
        "#             dec_outputs, dec_self_attn, dec_enc_attn = layer(dec_outputs, enc_outputs, \n",
        "#             dec_self_attn_mask, dec_enc_attn_mask)\n",
        "#             dec_self_attns.append(dec_self_attn)\n",
        "#             dec_enc_attns.append(dec_enc_attn)\n",
        "#         return dec_outputs, dec_self_attns, dec_enc_attns\n"
      ],
      "execution_count": null,
      "outputs": []
    },
    {
      "cell_type": "code",
      "metadata": {
        "id": "lO_PK-x5DHtj"
      },
      "source": [
        "class Transformer(nn.Module):\n",
        "    def __init__(self):\n",
        "        super(Transformer, self).__init__()\n",
        "        self.encoder = Encoder()\n",
        "        self.decoder = Decoder()\n",
        "        self.projection = nn.Linear(d_model, tgt_vocab_size, bias=False)\n",
        "    def forward(self, enc_inputs, dec_inputs):\n",
        "        enc_outputs, enc_self_attns = self.encoder(enc_inputs)\n",
        "        dec_outputs, dec_self_attns, dec_enc_attns = self.decoder(dec_inputs, enc_inputs, enc_outputs)\n",
        "        dec_logits = self.projection(dec_outputs) \n",
        "        return dec_logits, enc_self_attns, dec_self_attns, dec_enc_attns"
      ],
      "execution_count": null,
      "outputs": []
    },
    {
      "cell_type": "markdown",
      "metadata": {
        "id": "yS71rBsuDHtj"
      },
      "source": [
        "\\begin{equation}\n",
        "rate = d_{model}^{-0.5}*min(step\\_num^{-0.5}, step\\_num*warmup\\_steps^{-1.5})\n",
        "\\end{equation}"
      ]
    },
    {
      "cell_type": "code",
      "metadata": {
        "id": "kjA4ca9CDHtj"
      },
      "source": [
        "class CustomSchedule(torch.optim.lr_scheduler._LRScheduler):\n",
        "    def __init__(self, optimizer, warm_steps=4):\n",
        "        self.optimizer = optimizer\n",
        "        self.warmup_steps = warm_steps\n",
        "\n",
        "        super(CustomSchedule, self).__init__(optimizer)\n",
        "\n",
        "    def get_lr(self):\n",
        "        arg1 = self._step_count ** (-0.5)\n",
        "        arg2 = self._step_count * (self.warmup_steps ** (-1.5))\n",
        "        dynamic_lr = (d_model ** (-0.5)) * min(arg1, arg2)\n",
        "        return [dynamic_lr for group in self.optimizer.param_groups]"
      ],
      "execution_count": null,
      "outputs": []
    },
    {
      "cell_type": "code",
      "metadata": {
        "colab": {
          "base_uri": "https://localhost:8080/",
          "height": 279
        },
        "id": "FWdOOV5hDHtk",
        "outputId": "25001d88-90c5-4a51-ae5e-68f031cf5f72"
      },
      "source": [
        "# 测试\n",
        "import warnings\n",
        "warnings.filterwarnings(\"ignore\")\n",
        "\n",
        "n_layers, d_model, n_heads, d_ff  = 6, 512, 1, 2048\n",
        "\n",
        "src_vocab_size = len(SRC_TEXT.vocab) \n",
        "tgt_vocab_size = len(TGT_TEXT.vocab) \n",
        "\n",
        "d_k = d_v = d_model // n_heads\n",
        "\n",
        "model = Transformer().to(device)\n",
        "optimizer = torch.optim.Adam(model.parameters(), lr=0, betas=(0.9, 0.98), eps=1e-9)\n",
        "learning_rate = CustomSchedule(optimizer, warm_steps=4000)\n",
        "\n",
        "\n",
        "lr_list = []\n",
        "for i in range(1, 20000):\n",
        "    learning_rate.step()\n",
        "    lr_list.append(learning_rate.get_lr()[0])\n",
        "plt.figure()\n",
        "plt.plot(np.arange(1, 20000), lr_list)\n",
        "plt.legend(['warmup=4000 steps'])\n",
        "plt.ylabel(\"Learning Rate\")\n",
        "plt.xlabel(\"Train Step\")\n",
        "plt.show()"
      ],
      "execution_count": null,
      "outputs": [
        {
          "output_type": "display_data",
          "data": {
            "image/png": "[encoded data removed]",
            "text/plain": [
              "<Figure size 432x288 with 1 Axes>"
            ]
          },
          "metadata": {
            "tags": [],
            "needs_background": "light"
          }
        }
      ]
    },
    {
      "cell_type": "code",
      "metadata": {
        "id": "Eo3ENeajDHtk"
      },
      "source": [
        "def train_step(inp,tgt,criterion):\n",
        "    # 采取teacher_forcing，将上一个时间步的标签直接输入模型\n",
        "    tgt_input = tgt[:,:-1]\n",
        "    tgt_real = tgt[:,1:]\n",
        "\n",
        "    # to(device)不能少，否则默认cpu\n",
        "    inp = inp.to(device)\n",
        "    tgt_input = tgt_input.to(device)\n",
        "    tgt_real = tgt_real.to(device)\n",
        "\n",
        "    model.train()\n",
        "    optimizer.zero_grad()\n",
        "\n",
        "    # pred ==> [bz, seq_len, vocab_size]\n",
        "    # tgt_real ==> [bz, seq_len]\n",
        "    pred, enc_self_attns, dec_self_attns, dec_enc_attns = model(inp, tgt_input)\n",
        "    # pdb.set_trace()\n",
        "    # transformed_pred ==> [bz x seq_len, vocab_size]\n",
        "    # transformed_tgt_real ==> [bz x seq_len, ]\n",
        "    loss = criterion(pred.view(-1, pred.size(-1)), tgt_real.contiguous().view(-1))\n",
        "    # sum()不能忘，item()只能转换标量值为python值而非向量\n",
        "    loss_ = loss.sum().item()\n",
        "\n",
        "    # pred_ ==> [bz, seq_len]\n",
        "    pred_ = pred.argmax(dim=-1)\n",
        "    acc = pred_.eq(tgt_real)\n",
        "    # acc计算比例需要算占总比多少\n",
        "    # 画图时必须要item()\n",
        "    acc = (acc.sum()/ tgt.size(0)/ tgt.size(1)).item()\n",
        "\n",
        "    loss.backward()\n",
        "    optimizer.step()\n",
        "\n",
        "    return loss_, acc "
      ],
      "execution_count": null,
      "outputs": []
    },
    {
      "cell_type": "code",
      "metadata": {
        "colab": {
          "base_uri": "https://localhost:8080/"
        },
        "id": "tEQAuyB_DHtk",
        "outputId": "493404d2-efef-4761-e0da-7ae3dde7d597"
      },
      "source": [
        "# 检查train_step()的效果\n",
        "criterion = nn.CrossEntropyLoss()\n",
        "batch_src, batch_tgt = next(iter(train_dataloader))\n",
        "train_step(batch_src, batch_tgt, criterion)\n",
        "# print(tgt_input.shape)\n",
        "# tgt_input = batch_tgt[:,:-1]\n",
        "# tgt_real = batch_tgt[:,1:]\n",
        "# print(tgt_input.shape)\n",
        "# print(tgt_real.shape)\n"
      ],
      "execution_count": null,
      "outputs": [
        {
          "output_type": "execute_result",
          "data": {
            "text/plain": [
              "(7.867550849914551, 0.0013020833721384406)"
            ]
          },
          "metadata": {
            "tags": []
          },
          "execution_count": 46
        }
      ]
    },
    {
      "cell_type": "code",
      "metadata": {
        "id": "kNXbD6gjDHtk"
      },
      "source": [
        "def validation_step(inp, tgt, criterion):\n",
        "    tgt_input = tgt[:,:-1]\n",
        "    tgt_real = tgt[:,1:]\n",
        "\n",
        "    inp = inp.to(device)\n",
        "    tgt_input = tgt_input.to(device)\n",
        "    tgt_real = tgt_real.to(device)\n",
        "\n",
        "    model.eval()\n",
        "\n",
        "    with torch.no_grad():\n",
        "        pred, _, _, _ = model(inp, tgt_input)\n",
        "        val_loss = criterion(pred.view(-1, pred.size(-1)), tgt_real.contiguous().view(-1))\n",
        "        val_loss = val_loss.sum().item()\n",
        "\n",
        "        pred_ = pred.argmax(dim=-1)\n",
        "        val_acc = pred_.eq(tgt_real)\n",
        "        val_acc = (val_acc.sum()/ tgt.size(0)/ tgt.size(1)).item()\n",
        "    return val_loss, val_acc\n"
      ],
      "execution_count": null,
      "outputs": []
    },
    {
      "cell_type": "code",
      "metadata": {
        "id": "QIFUvFhjDHtk"
      },
      "source": [
        "EPOCHS = 20\n",
        "\n",
        "print_trainstep_every = 50\n",
        "\n",
        "lr_scheduler = CustomSchedule(optimizer, warm_steps=4000)\n",
        "\n",
        "# 存储数据\n",
        "df_history = pd.DataFrame(columns=[\"epoch\",\"loss\",\"acc\",\"val_loss\",\"val_acc\"])\n",
        "\n",
        "# 打印时间\n",
        "def printbar():\n",
        "    nowtime = datetime.datetime.now().strftime('%Y-%m_%d %H:%M:%S')\n",
        "    print('\\n' + \"==========\"*4 + '%s'%nowtime + \"==========\"*4)"
      ],
      "execution_count": null,
      "outputs": []
    },
    {
      "cell_type": "code",
      "metadata": {
        "colab": {
          "base_uri": "https://localhost:8080/"
        },
        "id": "OaYdxXedDHtk",
        "outputId": "cb0ed374-9d7a-4c28-dda6-42f3df110616"
      },
      "source": [
        "printbar()"
      ],
      "execution_count": null,
      "outputs": [
        {
          "output_type": "stream",
          "text": [
            "\n",
            "========================================2021-06_08 14:41:16========================================\n"
          ],
          "name": "stdout"
        }
      ]
    },
    {
      "cell_type": "code",
      "metadata": {
        "id": "Esrh4XdNDHtl"
      },
      "source": [
        "save_dir = \"train\"\n",
        "def train_model(epochs, train_dataloader, val_dataloader, print_every):\n",
        "    starttime = time.time()\n",
        "    print('\\n' + \"==========\"*4 + \"start training\" + \"==========\"*4)\n",
        "    best_acc = 0.8 \n",
        "    # best_acc = 0.7 # 长句子\n",
        "    for epoch in range(1, epochs + 1):\n",
        "\n",
        "        loss_sum = 0\n",
        "        acc_sum = 0\n",
        "\n",
        "        for step, (inp, tgt) in enumerate(train_dataloader, start=1):\n",
        "            loss, acc = train_step(inp, tgt, criterion)\n",
        "            loss_sum += loss\n",
        "            acc_sum += acc \n",
        "\n",
        "            # 打印batch级别信息\n",
        "            if step % print_every == 0:\n",
        "                print('*' * 8, f'[step = {step}] loss: {loss_sum / step:.3f}, {\"acc\"}: {acc_sum / step:.3f}')\n",
        "            \n",
        "            # 更新学习率\n",
        "            lr_scheduler.step()\n",
        "        # 一个epoch结束，做一次验证\n",
        "        val_loss_sum = 0\n",
        "        val_acc_sum = 0\n",
        "        for val_step, (inp, tgt) in enumerate(val_dataloader, start=1):\n",
        "            val_loss, val_acc = validation_step(inp, tgt, criterion)\n",
        "            val_loss_sum += val_loss\n",
        "            val_acc_sum += val_acc \n",
        "        \n",
        "        # 记录收集一个epoch的信息\n",
        "        # 与列对应\n",
        "        # epoch从0开始\n",
        "        record = (epoch, loss_sum/step, acc_sum/step, val_loss_sum/val_step, val_acc_sum/val_step) \n",
        "        df_history.loc[epoch-1] = record\n",
        "        # 打印epoch级别的日志\n",
        "        print('EPOCH = {} loss: {:.3f}, {}: {:.3f}, val_loss: {:.3f}, val_{}: {:.3f}'.format(\n",
        "        record[0], record[1], \"acc\", record[2], record[3], \"acc\", record[4]))\n",
        "        printbar()\n",
        "        current_acc_avg = val_acc_sum / val_step \n",
        "        # 若大于基础正确率，则保存\n",
        "        if current_acc_avg > best_acc:\n",
        "            best_acc = current_acc_avg\n",
        "            checkpoint = save_dir + '{:03d}_{:.2f}_ckpt.tar'.format(epoch, current_acc_avg)\n",
        "            \n",
        "            # 若只是普通保存，则只会保留基础网络结构而非具体参数\n",
        "            model_sd = copy.deepcopy(model.state_dict())\n",
        "            torch.save({\n",
        "                'loss': loss_sum / step,\n",
        "                'epoch': epoch,\n",
        "                'net': model_sd,\n",
        "                'opt': optimizer.state_dict(),\n",
        "                'lr_scheduler': lr_scheduler.state_dict()\n",
        "            }, checkpoint)\n",
        "        print('finishing training...')\n",
        "    \n",
        "    # 时间记录\n",
        "    endtime = time.time()\n",
        "    time_elapsed = endtime - starttime\n",
        "    print('Training complete in {:.0f}m {:.0f}s'.format(time_elapsed // 60, time_elapsed % 60))\n",
        "    return df_history"
      ],
      "execution_count": null,
      "outputs": []
    },
    {
      "cell_type": "code",
      "metadata": {
        "colab": {
          "base_uri": "https://localhost:8080/"
        },
        "id": "j_5Gw9U1DHtl",
        "outputId": "8d67fd03-bfd4-4042-84e8-a6a242a4da06"
      },
      "source": [
        "# 开始训练\n",
        "df_history = train_model(EPOCHS, train_dataloader, val_dataloader, print_trainstep_every)\n",
        "print(df_history)"
      ],
      "execution_count": null,
      "outputs": [
        {
          "output_type": "stream",
          "text": [
            "\n",
            "========================================start training========================================\n",
            "******** [step = 50] loss: 4.520, acc: 0.351\n",
            "******** [step = 100] loss: 3.758, acc: 0.456\n",
            "EPOCH = 1 loss: 3.417, acc: 0.498, val_loss: 2.210, val_acc: 0.648\n",
            "\n",
            "========================================2021-06_08 14:41:28========================================\n",
            "finishing training...\n",
            "******** [step = 50] loss: 2.031, acc: 0.659\n",
            "******** [step = 100] loss: 1.924, acc: 0.668\n",
            "EPOCH = 2 loss: 1.874, acc: 0.672, val_loss: 1.680, val_acc: 0.690\n",
            "\n",
            "========================================2021-06_08 14:41:41========================================\n",
            "finishing training...\n",
            "******** [step = 50] loss: 1.563, acc: 0.699\n",
            "******** [step = 100] loss: 1.510, acc: 0.705\n",
            "EPOCH = 3 loss: 1.479, acc: 0.708, val_loss: 1.360, val_acc: 0.723\n",
            "\n",
            "========================================2021-06_08 14:41:54========================================\n",
            "finishing training...\n",
            "******** [step = 50] loss: 1.274, acc: 0.727\n",
            "******** [step = 100] loss: 1.224, acc: 0.735\n",
            "EPOCH = 4 loss: 1.201, acc: 0.737, val_loss: 1.159, val_acc: 0.745\n",
            "\n",
            "========================================2021-06_08 14:42:06========================================\n",
            "finishing training...\n",
            "******** [step = 50] loss: 1.022, acc: 0.757\n",
            "******** [step = 100] loss: 1.002, acc: 0.759\n",
            "EPOCH = 5 loss: 0.986, acc: 0.762, val_loss: 1.039, val_acc: 0.761\n",
            "\n",
            "========================================2021-06_08 14:42:19========================================\n",
            "finishing training...\n",
            "******** [step = 50] loss: 0.842, acc: 0.778\n",
            "******** [step = 100] loss: 0.822, acc: 0.782\n",
            "EPOCH = 6 loss: 0.814, acc: 0.783, val_loss: 0.906, val_acc: 0.779\n",
            "\n",
            "========================================2021-06_08 14:42:32========================================\n",
            "finishing training...\n",
            "******** [step = 50] loss: 0.683, acc: 0.801\n",
            "******** [step = 100] loss: 0.672, acc: 0.802\n",
            "EPOCH = 7 loss: 0.670, acc: 0.802, val_loss: 0.847, val_acc: 0.786\n",
            "\n",
            "========================================2021-06_08 14:42:45========================================\n",
            "finishing training...\n",
            "******** [step = 50] loss: 0.542, acc: 0.822\n",
            "******** [step = 100] loss: 0.549, acc: 0.820\n",
            "EPOCH = 8 loss: 0.549, acc: 0.820, val_loss: 0.778, val_acc: 0.796\n",
            "\n",
            "========================================2021-06_08 14:42:58========================================\n",
            "finishing training...\n",
            "******** [step = 50] loss: 0.448, acc: 0.835\n",
            "******** [step = 100] loss: 0.447, acc: 0.835\n",
            "EPOCH = 9 loss: 0.447, acc: 0.835, val_loss: 0.743, val_acc: 0.802\n",
            "\n",
            "========================================2021-06_08 14:43:11========================================\n",
            "finishing training...\n",
            "******** [step = 50] loss: 0.339, acc: 0.851\n",
            "******** [step = 100] loss: 0.351, acc: 0.849\n",
            "EPOCH = 10 loss: 0.363, acc: 0.847, val_loss: 0.704, val_acc: 0.805\n",
            "\n",
            "========================================2021-06_08 14:43:26========================================\n",
            "finishing training...\n",
            "******** [step = 50] loss: 0.275, acc: 0.864\n",
            "******** [step = 100] loss: 0.286, acc: 0.861\n",
            "EPOCH = 11 loss: 0.294, acc: 0.858, val_loss: 0.679, val_acc: 0.810\n",
            "\n",
            "========================================2021-06_08 14:43:41========================================\n",
            "finishing training...\n",
            "******** [step = 50] loss: 0.222, acc: 0.874\n",
            "******** [step = 100] loss: 0.233, acc: 0.871\n",
            "EPOCH = 12 loss: 0.240, acc: 0.869, val_loss: 0.699, val_acc: 0.809\n",
            "\n",
            "========================================2021-06_08 14:43:55========================================\n",
            "finishing training...\n",
            "******** [step = 50] loss: 0.180, acc: 0.880\n",
            "******** [step = 100] loss: 0.195, acc: 0.877\n",
            "EPOCH = 13 loss: 0.202, acc: 0.875, val_loss: 0.668, val_acc: 0.813\n",
            "\n",
            "========================================2021-06_08 14:44:09========================================\n",
            "finishing training...\n",
            "******** [step = 50] loss: 0.154, acc: 0.883\n",
            "******** [step = 100] loss: 0.163, acc: 0.881\n",
            "EPOCH = 14 loss: 0.170, acc: 0.879, val_loss: 0.684, val_acc: 0.808\n",
            "\n",
            "========================================2021-06_08 14:44:24========================================\n",
            "finishing training...\n",
            "******** [step = 50] loss: 0.139, acc: 0.885\n",
            "******** [step = 100] loss: 0.148, acc: 0.883\n",
            "EPOCH = 15 loss: 0.155, acc: 0.881, val_loss: 0.677, val_acc: 0.811\n",
            "\n",
            "========================================2021-06_08 14:44:37========================================\n",
            "finishing training...\n",
            "******** [step = 50] loss: 0.123, acc: 0.888\n",
            "******** [step = 100] loss: 0.133, acc: 0.885\n",
            "EPOCH = 16 loss: 0.141, acc: 0.883, val_loss: 0.676, val_acc: 0.808\n",
            "\n",
            "========================================2021-06_08 14:44:50========================================\n",
            "finishing training...\n",
            "******** [step = 50] loss: 0.121, acc: 0.888\n",
            "******** [step = 100] loss: 0.126, acc: 0.887\n",
            "EPOCH = 17 loss: 0.134, acc: 0.885, val_loss: 0.676, val_acc: 0.813\n",
            "\n",
            "========================================2021-06_08 14:45:03========================================\n",
            "finishing training...\n",
            "******** [step = 50] loss: 0.113, acc: 0.889\n",
            "******** [step = 100] loss: 0.127, acc: 0.886\n",
            "EPOCH = 18 loss: 0.133, acc: 0.884, val_loss: 0.688, val_acc: 0.809\n",
            "\n",
            "========================================2021-06_08 14:45:18========================================\n",
            "finishing training...\n",
            "******** [step = 50] loss: 0.112, acc: 0.890\n",
            "******** [step = 100] loss: 0.120, acc: 0.887\n",
            "EPOCH = 19 loss: 0.128, acc: 0.885, val_loss: 0.691, val_acc: 0.812\n",
            "\n",
            "========================================2021-06_08 14:45:31========================================\n",
            "finishing training...\n",
            "******** [step = 50] loss: 0.116, acc: 0.889\n",
            "******** [step = 100] loss: 0.122, acc: 0.886\n",
            "EPOCH = 20 loss: 0.128, acc: 0.885, val_loss: 0.716, val_acc: 0.807\n",
            "\n",
            "========================================2021-06_08 14:45:45========================================\n",
            "finishing training...\n",
            "Training complete in 4m 29s\n",
            "    epoch      loss       acc  val_loss   val_acc\n",
            "0     1.0  3.417007  0.498472  2.209739  0.647518\n",
            "1     2.0  1.874459  0.671964  1.679881  0.690028\n",
            "2     3.0  1.479293  0.708330  1.359562  0.723269\n",
            "3     4.0  1.201220  0.737093  1.158534  0.744562\n",
            "4     5.0  0.986424  0.761559  1.038639  0.761489\n",
            "5     6.0  0.813770  0.783004  0.906396  0.778914\n",
            "6     7.0  0.669900  0.802338  0.847276  0.786075\n",
            "7     8.0  0.548941  0.819937  0.777948  0.795918\n",
            "8     9.0  0.447113  0.834574  0.742735  0.801815\n",
            "9    10.0  0.363044  0.847046  0.703680  0.804956\n",
            "10   11.0  0.294293  0.858147  0.679299  0.810049\n",
            "11   12.0  0.240417  0.868642  0.699091  0.809207\n",
            "12   13.0  0.201828  0.875083  0.668389  0.812653\n",
            "13   14.0  0.170366  0.879348  0.684274  0.808441\n",
            "14   15.0  0.155396  0.881101  0.677045  0.810700\n",
            "15   16.0  0.141134  0.883261  0.676100  0.807521\n",
            "16   17.0  0.134031  0.884745  0.675860  0.812998\n",
            "17   18.0  0.133321  0.884157  0.688193  0.808709\n",
            "18   19.0  0.127680  0.885308  0.691024  0.811811\n",
            "19   20.0  0.127909  0.884940  0.716071  0.806794\n"
          ],
          "name": "stdout"
        }
      ]
    },
    {
      "cell_type": "code",
      "metadata": {
        "id": "UoG7Ri8GDHtl"
      },
      "source": [
        "def plot_metric(df_history, metric):\n",
        "    plt.figure()\n",
        "\n",
        "    train_metrics = df_history[metric]\n",
        "    val_metrics = df_history[\"val_\" + metric]\n",
        "\n",
        "    # epochs变为列表，才能画\n",
        "    epochs = range(1, len(train_metrics) + 1)\n",
        "\n",
        "    plt.plot(epochs, train_metrics, \"bo--\")\n",
        "    plt.plot(epochs, val_metrics, \"ro--\")\n",
        "\n",
        "    plt.title(\"Training and validation \" + metric)\n",
        "    plt.xlabel(\"Epochs\")\n",
        "    plt.ylabel(metric)\n",
        "    plt.legend([\"train_\" + metric,\"val_\" + metric])\n",
        "    plt.savefig(metric + \" conv\" + \".png\")\n",
        "    plt.show()"
      ],
      "execution_count": null,
      "outputs": []
    },
    {
      "cell_type": "code",
      "metadata": {
        "colab": {
          "base_uri": "https://localhost:8080/",
          "height": 573
        },
        "id": "f5s2n9Q-DHtl",
        "outputId": "728e600c-ae55-46d9-b3de-2f5472604492"
      },
      "source": [
        "plot_metric(df_history, \"loss\")\n",
        "plot_metric(df_history, \"acc\")"
      ],
      "execution_count": null,
      "outputs": [
        {
          "output_type": "display_data",
          "data": {
            "image/png": "[encoded data removed]",
            "text/plain": [
              "<Figure size 432x288 with 1 Axes>"
            ]
          },
          "metadata": {
            "tags": [],
            "needs_background": "light"
          }
        },
        {
          "output_type": "display_data",
          "data": {
            "image/png": "[encoded data removed]",
            "text/plain": [
              "<Figure size 432x288 with 1 Axes>"
            ]
          },
          "metadata": {
            "tags": [],
            "needs_background": "light"
          }
        }
      ]
    },
    {
      "cell_type": "code",
      "metadata": {
        "colab": {
          "base_uri": "https://localhost:8080/"
        },
        "id": "XSUCJ0ywDHtl",
        "outputId": "d50848a1-de37-4ed7-d5a2-0b8ddbf53575"
      },
      "source": [
        "# 具体看保存哪个，需要自行修改\n",
        "checkpoint = \"/content/train017_0.81_ckpt.tar\"\n",
        "print(\"checkpoint:\",checkpoint)\n",
        "\n",
        "ckpt = torch.load(checkpoint)\n",
        "\n",
        "transformer_sd = ckpt[\"net\"]\n",
        "\n",
        "reload_model = Transformer().to(device)\n",
        "reload_model.load_state_dict(transformer_sd)\n"
      ],
      "execution_count": null,
      "outputs": [
        {
          "output_type": "stream",
          "text": [
            "checkpoint: /content/train017_0.81_ckpt.tar\n"
          ],
          "name": "stdout"
        },
        {
          "output_type": "execute_result",
          "data": {
            "text/plain": [
              "<All keys matched successfully>"
            ]
          },
          "metadata": {
            "tags": []
          },
          "execution_count": 55
        }
      ]
    },
    {
      "cell_type": "code",
      "metadata": {
        "id": "9R2mh0ERDHtm"
      },
      "source": [
        "def tokenizer_encode(tokenize, sentence, vocab):\n",
        "    sentence = normalizeString(sentence)\n",
        "\n",
        "    sentence = tokenize(sentence)\n",
        "    sentence = [\"<start>\"] + sentence + [\"<end>\"]\n",
        "    sentence_ids = [vocab.stoi[token] for token in sentence]\n",
        "    return sentence_ids\n",
        "\n",
        "def tokenizer_decode(sentence_ids, vocab):\n",
        "    sentence = [vocab.itos[id] for id in sentence_ids if id < len(vocab)]\n",
        "    return \" \".join(sentence)"
      ],
      "execution_count": null,
      "outputs": []
    },
    {
      "cell_type": "code",
      "metadata": {
        "id": "1zkgCAWkDHtm",
        "colab": {
          "base_uri": "https://localhost:8080/"
        },
        "outputId": "a532095a-ec1e-4a75-b8ca-6bff2f8f63a6"
      },
      "source": [
        "# 只有一个句子，不需要加pad\n",
        "s = 'je pars en vacances pour quelques jours .'\n",
        "print(tokenizer_encode(tokenizer, s, SRC_TEXT.vocab))\n",
        "\n",
        "\n",
        "s_ids = [3, 5, 251, 17, 365, 35, 492, 390, 4, 2]\n",
        "print(tokenizer_decode(s_ids, SRC_TEXT.vocab))\n",
        "print(tokenizer_decode(s_ids, TGT_TEXT.vocab))"
      ],
      "execution_count": null,
      "outputs": [
        {
          "output_type": "stream",
          "text": [
            "[3, 5, 251, 17, 365, 35, 492, 390, 4, 2]\n",
            "<start> je pars en vacances pour quelques jours . <end>\n",
            "<start> i tennis very forgetful me helping bed . <end>\n"
          ],
          "name": "stdout"
        }
      ]
    },
    {
      "cell_type": "code",
      "metadata": {
        "id": "igjMKOocDHtm"
      },
      "source": [
        "def evaluate(inp_sentence):\n",
        "    reload_model.eval()\n",
        "    \n",
        "    inp_sentence_ids = tokenizer_encode(tokenizer, inp_sentence, SRC_TEXT.vocab)\n",
        "    # =>[b=1, inp_seq_len=10]\n",
        "    encoder_input = torch.tensor(inp_sentence_ids).unsqueeze(dim=0)\n",
        "\n",
        "    # 预估时一句对一句，decode_input为<start>\n",
        "    decoder_input = [TGT_TEXT.vocab.stoi[\"<start>\"]]\n",
        "    # =>[b=1, inp_seq_len=1]    \n",
        "    decoder_input = torch.tensor(decoder_input).unsqueeze(0)\n",
        "\n",
        "    encoder_input = encoder_input.to(device)\n",
        "    decoder_input = decoder_input.to(device)\n",
        "\n",
        "    with torch.no_grad():\n",
        "        for i in range(MAX_LENGTH + 2):\n",
        "            # pred ==> [b=1, 1(len_q), tgt_vocab_size]\n",
        "            pred, enc_self_attns, dec_self_attns, dec_enc_attns = reload_model(encoder_input, decoder_input)\n",
        "            # 最后一个词\n",
        "            # pdb.set_trace()\n",
        "            pred = pred[:,-1:,:]\n",
        "            # pred_ids ==> [1,1]\n",
        "            pred_ids = torch.argmax(pred, dim=-1)\n",
        "\n",
        "            if pred_ids.squeeze().item() == TGT_TEXT.vocab.stoi[\"<end>\"]:\n",
        "              return decoder_input.squeeze(dim=0), dec_enc_attns\n",
        "            \n",
        "            # [b=1, tgt_seq_len=1] ==> [b=1, tgt_seq_len=2]\n",
        "            # deocder_input不断变长\n",
        "            decoder_input = torch.cat([decoder_input, pred_ids],dim=-1)\n",
        "    return decoder_input.squeeze(dim=0), dec_enc_attns"
      ],
      "execution_count": null,
      "outputs": []
    },
    {
      "cell_type": "code",
      "metadata": {
        "id": "KkxSj7msDHtm",
        "colab": {
          "base_uri": "https://localhost:8080/"
        },
        "outputId": "1cbd68f1-7fde-4eb2-af6f-6b248de3615b"
      },
      "source": [
        "s = 'je pars en vacances pour quelques jours .'\n",
        "s_targ = 'i m taking a couple of days off .'\n",
        "pred_result, attention_weights = evaluate(s)\n",
        "pred_sentence = tokenizer_decode(pred_result, TGT_TEXT.vocab)\n",
        "print('real target:', s_targ)\n",
        "print('pred_sentence:', pred_sentence)"
      ],
      "execution_count": null,
      "outputs": [
        {
          "output_type": "stream",
          "text": [
            "real target: i m taking a couple of days off .\n",
            "pred_sentence: <start> i m taking a couple of days off .\n"
          ],
          "name": "stdout"
        }
      ]
    },
    {
      "cell_type": "code",
      "metadata": {
        "colab": {
          "base_uri": "https://localhost:8080/"
        },
        "id": "h05_ngjXeNHj",
        "outputId": "10b1d6e5-c74f-4d1d-c8e2-1cbcfb874021"
      },
      "source": [
        "# 为长句子准备\n",
        "sentence_pairs = [\n",
        "    ['ce n est pas un chat . c est un chien .', 'that s not a cat . it s a dog .'],\n",
        "    ['je m en fiche s il fait un peu froid .', 'i don t care if it s a bit cold .'],\n",
        "    ['bientot ce ne sera plus inedit de vivre jusqu a cent cinquante ans .', 'soon it won t be unheard of to live to .'],\n",
        "]\n",
        "def batch_translate(sentence_pairs):\n",
        "    for pair in sentence_pairs:\n",
        "        print('input:', pair[0])\n",
        "        print('target:', pair[1])\n",
        "        pred_result, _ = evaluate(pair[0])\n",
        "        pred_sentence = tokenizer_decode(pred_result, TGT_TEXT.vocab)\n",
        "        print('pred:', pred_sentence)\n",
        "        print('')\n",
        "\n",
        "batch_translate(sentence_pairs)"
      ],
      "execution_count": null,
      "outputs": [
        {
          "output_type": "stream",
          "text": [
            "input: ce n est pas un chat . c est un chien .\n",
            "target: that s not a cat . it s a dog .\n",
            "pred: <start> he s not a professional .\n",
            "\n",
            "input: je m en fiche s il fait un peu froid .\n",
            "target: i don t care if it s a bit cold .\n",
            "pred: <start> i m just starting a bit cold .\n",
            "\n",
            "input: bientot ce ne sera plus inedit de vivre jusqu a cent cinquante ans .\n",
            "target: soon it won t be unheard of to live to .\n",
            "pred: <start> we re not going to make a host .\n",
            "\n"
          ],
          "name": "stdout"
        }
      ]
    },
    {
      "cell_type": "code",
      "metadata": {
        "id": "HpPU-vCUDHtn",
        "colab": {
          "base_uri": "https://localhost:8080/"
        },
        "outputId": "23ef18e2-821a-4c15-c420-72ca58ccab1f"
      },
      "source": [
        "# 批量翻译\n",
        "sentence_pairs = [\n",
        "    ['je pars en vacances pour quelques jours .', 'i m taking a couple of days off .'],\n",
        "    ['je ne me panique pas .', 'i m not panicking .'],\n",
        "    ['je recherche un assistant .', 'i am looking for an assistant .'],\n",
        "    ['je suis loin de chez moi .', 'i m a long way from home .'],\n",
        "    ['vous etes en retard .', 'you re very late .'],\n",
        "    ['j ai soif .', 'i am thirsty .'],\n",
        "    ['je suis fou de vous .', 'i m crazy about you .'],\n",
        "    ['vous etes vilain .', 'you are naughty .'],\n",
        "    ['il est vieux et laid .', 'he s old and ugly .'],\n",
        "    ['je suis terrifiee .', 'i m terrified .'],\n",
        "]\n",
        "\n",
        "\n",
        "def batch_translate(sentence_pairs):\n",
        "    for pair in sentence_pairs:\n",
        "        print('input:', pair[0])\n",
        "        print('target:', pair[1])\n",
        "        pred_result, _ = evaluate(pair[0])\n",
        "        pred_sentence = tokenizer_decode(pred_result, TGT_TEXT.vocab)\n",
        "        print('pred:', pred_sentence)\n",
        "        print('')\n",
        "\n",
        "batch_translate(sentence_pairs)"
      ],
      "execution_count": null,
      "outputs": [
        {
          "output_type": "stream",
          "text": [
            "input: je pars en vacances pour quelques jours .\n",
            "target: i m taking a couple of days off .\n",
            "pred: <start> i m taking a couple of days off .\n",
            "\n",
            "input: je ne me panique pas .\n",
            "target: i m not panicking .\n",
            "pred: <start> i m not panicking .\n",
            "\n",
            "input: je recherche un assistant .\n",
            "target: i am looking for an assistant .\n",
            "pred: <start> i am looking for an assistant .\n",
            "\n",
            "input: je suis loin de chez moi .\n",
            "target: i m a long way from home .\n",
            "pred: <start> i m a long way home .\n",
            "\n",
            "input: vous etes en retard .\n",
            "target: you re very late .\n",
            "pred: <start> you re late .\n",
            "\n",
            "input: j ai soif .\n",
            "target: i am thirsty .\n",
            "pred: <start> i m thirsty .\n",
            "\n",
            "input: je suis fou de vous .\n",
            "target: i m crazy about you .\n",
            "pred: <start> i m crazy about you .\n",
            "\n",
            "input: vous etes vilain .\n",
            "target: you are naughty .\n",
            "pred: <start> you are naughty .\n",
            "\n",
            "input: il est vieux et laid .\n",
            "target: he s old and ugly .\n",
            "pred: <start> he s old and ugly .\n",
            "\n",
            "input: je suis terrifiee .\n",
            "target: i m terrified .\n",
            "pred: <start> i m terrified .\n",
            "\n"
          ],
          "name": "stdout"
        }
      ]
    },
    {
      "cell_type": "code",
      "metadata": {
        "tags": [],
        "id": "vOsuJ6j0DHtn",
        "colab": {
          "base_uri": "https://localhost:8080/",
          "height": 799
        },
        "outputId": "f858a39f-a5ed-4478-fb7e-2264aeb6591e"
      },
      "source": [
        "# 可视化attenton 这里我们只展示...block2的attention，即[b, num_heads, tgt_seq_len, inp_seq_len]\n",
        "# attention: {'decoder_layer{i + 1}_block1': [b, num_heads, tgt_seq_len, tgt_seq_len],\n",
        "#             'decoder_layer{i + 1}_block2': [b, num_heads, tgt_seq_len, inp_seq_len], ...}\n",
        "# sentence: [seq_len]，例如：'je recherche un assistant .'\n",
        "# pred_result: [seq_len]，例如：'<start> i m looking for an assistant .'\n",
        "# layer: 表示模型decoder的N层decoder-layer的第几层的attention，形如'decoder_layer{i}_block1'或'decoder_layer{i}_block2'\n",
        "def plot_attention_weights(attention, sentence, pred_sentence, layer):\n",
        "    sentence = sentence.split()\n",
        "    pred_sentence = pred_sentence.split()\n",
        "    # pdb.set_trace()\n",
        "    fig = plt.figure(figsize=(16, 8))\n",
        "\n",
        "    # block2 attention[layer] => [b=1, num_heads, targ_seq_len, inp_seq_len]\n",
        "    # attention为列表，长度为层数6\n",
        "    attention = torch.squeeze(attention[layer], dim=0) # => [num_heads, targ_seq_len, inp_seq_len]\n",
        "\n",
        "    for head in range(attention.shape[0]):\n",
        "        # 111是单个整数编码的子绘图网格参数。例如，“111”表示“1×1网格，第一子图”，“234”表示“2×3网格，第四子图”\n",
        "\n",
        "        ax = fig.add_subplot(2, 4, head + 1)  \n",
        "        cax = ax.matshow(attention[head].cpu(), cmap='viridis')  # 绘制网格热图，注意力权重\n",
        "        # fig.colorbar(cax)#给子图添加colorbar（颜色条或渐变色条）\n",
        "\n",
        "        fontdict = {'fontsize': 10}\n",
        "\n",
        "        # 设置轴刻度线\n",
        "        ax.set_xticks(range(len(sentence)+2))  # 算上start和end\n",
        "        ax.set_yticks(range(len(pred_sentence)))\n",
        "\n",
        "        ax.set_ylim(len(pred_sentence) - 1.5, -0.5)  # 设定y座标轴的范围\n",
        "\n",
        "        # 设置轴\n",
        "        ax.set_xticklabels(['<start>']+sentence+['<end>'], fontdict=fontdict, rotation=90)  # 顺时间旋转90度\n",
        "        ax.set_yticklabels(pred_sentence, fontdict=fontdict)\n",
        "\n",
        "        ax.set_xlabel('Head {}'.format(head + 1))\n",
        "    plt.tight_layout()\n",
        "    plt.show()\n",
        "\n",
        "\n",
        "def translate(sentence_pair, plot=None):\n",
        "    print('input:', sentence_pair[0])\n",
        "    print('target:', sentence_pair[1])\n",
        "    pred_result, attention_weights = evaluate(sentence_pair[0])\n",
        "    # print('attention_weights:', attention_weights[0])\n",
        "    # pdb.set_trace()\n",
        "    pred_sentence = tokenizer_decode(pred_result, TGT_TEXT.vocab)\n",
        "    print('pred:', pred_sentence)\n",
        "    print('')\n",
        "\n",
        "    if plot:\n",
        "        plot_attention_weights(attention_weights, sentence_pair[0], pred_sentence, plot)\n",
        "\n",
        "\n",
        "translate(sentence_pairs[0], plot=1)\n",
        "\n",
        "translate(sentence_pairs[2], plot=2)\n"
      ],
      "execution_count": null,
      "outputs": [
        {
          "output_type": "stream",
          "text": [
            "input: je pars en vacances pour quelques jours .\n",
            "target: i m taking a couple of days off .\n",
            "pred: <start> i m taking a couple of days off .\n",
            "\n"
          ],
          "name": "stdout"
        },
        {
          "output_type": "display_data",
          "data": {
            "image/png": "[encoded data removed]",
            "text/plain": [
              "<Figure size 1152x576 with 1 Axes>"
            ]
          },
          "metadata": {
            "tags": [],
            "needs_background": "light"
          }
        },
        {
          "output_type": "stream",
          "text": [
            "input: je recherche un assistant .\n",
            "target: i am looking for an assistant .\n",
            "pred: <start> i am looking for an assistant .\n",
            "\n"
          ],
          "name": "stdout"
        },
        {
          "output_type": "display_data",
          "data": {
            "image/png": "[encoded data removed]",
            "text/plain": [
              "<Figure size 1152x576 with 1 Axes>"
            ]
          },
          "metadata": {
            "tags": [],
            "needs_background": "light"
          }
        }
      ]
    },
    {
      "cell_type": "code",
      "metadata": {
        "id": "uVUvJkyMDHtn"
      },
      "source": [],
      "execution_count": null,
      "outputs": []
    }
  ]
}